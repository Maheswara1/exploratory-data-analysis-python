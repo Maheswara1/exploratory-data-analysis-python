{
  "nbformat": 4,
  "nbformat_minor": 0,
  "metadata": {
    "colab": {
      "name": "sanitize.ipynb",
      "provenance": [],
      "collapsed_sections": []
    },
    "kernelspec": {
      "name": "python3",
      "display_name": "Python 3"
    },
    "language_info": {
      "name": "python"
    }
  },
  "cells": [
    {
      "cell_type": "code",
      "execution_count": 750,
      "metadata": {
        "id": "PdTXHYRPptfy"
      },
      "outputs": [],
      "source": [
        "# import the pre_defined files\n",
        "import pandas as pd\n",
        "import numpy as np\n",
        "import matplotlib.pyplot as plt\n",
        "import seaborn as sns"
      ]
    },
    {
      "cell_type": "code",
      "source": [
        "# Reading the dataset\n",
        "df=pd.read_excel('/content/Sample_Longlist_Data.xlsx')"
      ],
      "metadata": {
        "id": "UvZ-bJu8qItJ"
      },
      "execution_count": 751,
      "outputs": []
    },
    {
      "cell_type": "code",
      "source": [
        "# I want to see the head of the dataset\n",
        "df.head()"
      ],
      "metadata": {
        "colab": {
          "base_uri": "https://localhost:8080/",
          "height": 591
        },
        "id": "gH3PT_vNQYsz",
        "outputId": "5d749f72-ad5c-4e95-8dca-9a61b65f2968"
      },
      "execution_count": 752,
      "outputs": [
        {
          "output_type": "execute_result",
          "data": {
            "text/html": [
              "<div>\n",
              "<style scoped>\n",
              "    .dataframe tbody tr th:only-of-type {\n",
              "        vertical-align: middle;\n",
              "    }\n",
              "\n",
              "    .dataframe tbody tr th {\n",
              "        vertical-align: top;\n",
              "    }\n",
              "\n",
              "    .dataframe thead th {\n",
              "        text-align: right;\n",
              "    }\n",
              "</style>\n",
              "<table border=\"1\" class=\"dataframe\">\n",
              "  <thead>\n",
              "    <tr style=\"text-align: right;\">\n",
              "      <th></th>\n",
              "      <th>Date Added</th>\n",
              "      <th>category</th>\n",
              "      <th>sellerlink</th>\n",
              "      <th>sellerlink-url</th>\n",
              "      <th>sellerstorefront-url</th>\n",
              "      <th>sellerproductcount</th>\n",
              "      <th>sellerratings</th>\n",
              "      <th>sellerdetails</th>\n",
              "      <th>seller business name</th>\n",
              "      <th>businessaddress</th>\n",
              "      <th>Count of seller brands</th>\n",
              "      <th>Max % of negative seller ratings - last 30 days</th>\n",
              "      <th>Max % of negative seller ratings - last 90 days</th>\n",
              "      <th>Max % of negative seller ratings - last 12 months</th>\n",
              "      <th>Hero Product 1 #ratings</th>\n",
              "      <th>Hero Product 2 #ratings</th>\n",
              "      <th>Sample brand name</th>\n",
              "      <th>Sample Brand URL</th>\n",
              "    </tr>\n",
              "  </thead>\n",
              "  <tbody>\n",
              "    <tr>\n",
              "      <th>0</th>\n",
              "      <td>2020-11-15</td>\n",
              "      <td>Garden</td>\n",
              "      <td>Seller 1</td>\n",
              "      <td>Seller 1-link</td>\n",
              "      <td>Seller 1-storefrontlink</td>\n",
              "      <td>1-16 of over 100,000 results</td>\n",
              "      <td>88% positive in the last 12 months (118 ratings)</td>\n",
              "      <td>Lohas Living Inc James Mazzello US 845 3RD Ave...</td>\n",
              "      <td>Business Name:Lohas Living Inc</td>\n",
              "      <td>411 THEODORE FREMD AVESTE 206 SOUTHRyeNY10580-...</td>\n",
              "      <td>16</td>\n",
              "      <td>17</td>\n",
              "      <td>11</td>\n",
              "      <td>12</td>\n",
              "      <td>5873</td>\n",
              "      <td>4957</td>\n",
              "      <td>Visit the YAMAZAKI Store</td>\n",
              "      <td>https://www.amazon.de/-/en/stores/YAMAZAKI/pag...</td>\n",
              "    </tr>\n",
              "    <tr>\n",
              "      <th>1</th>\n",
              "      <td>2020-11-15</td>\n",
              "      <td>Garden</td>\n",
              "      <td>Seller 2</td>\n",
              "      <td>Seller 2-link</td>\n",
              "      <td>Seller 2-storefrontlink</td>\n",
              "      <td>NaN</td>\n",
              "      <td>90% positive in the last 12 months (566 ratings)</td>\n",
              "      <td>Herzlich Willkommen im Amazon Shop von 1a-Hand...</td>\n",
              "      <td>Business Name:1a-Handelsagentur</td>\n",
              "      <td>1a HandelsagenturLindenallee 2MalchowMecklenbu...</td>\n",
              "      <td>0</td>\n",
              "      <td>2</td>\n",
              "      <td>2</td>\n",
              "      <td>9</td>\n",
              "      <td>0</td>\n",
              "      <td>0</td>\n",
              "      <td>Visit the tesa Store</td>\n",
              "      <td>https://www.amazon.de/-/en/stores/tesa/page/12...</td>\n",
              "    </tr>\n",
              "    <tr>\n",
              "      <th>2</th>\n",
              "      <td>2020-11-15</td>\n",
              "      <td>Garden</td>\n",
              "      <td>Seller 3</td>\n",
              "      <td>Seller 3-link</td>\n",
              "      <td>Seller 3-storefrontlink</td>\n",
              "      <td>1-16 of over 2,000 results</td>\n",
              "      <td>85% positive in the last 12 months (75 ratings)</td>\n",
              "      <td>67878u6i7 is committed to providing each custo...</td>\n",
              "      <td>Business Name:nantongaohuanfangzhipinyouxiango...</td>\n",
              "      <td>zhongnanshijicheng27zhuang1410haochongchuanqun...</td>\n",
              "      <td>15</td>\n",
              "      <td>0</td>\n",
              "      <td>25</td>\n",
              "      <td>12</td>\n",
              "      <td>164</td>\n",
              "      <td>162</td>\n",
              "      <td>TXYFYP</td>\n",
              "      <td>https://www.amazon.de/-/en/s/ref=bl_dp_s_web_0...</td>\n",
              "    </tr>\n",
              "    <tr>\n",
              "      <th>3</th>\n",
              "      <td>2020-11-15</td>\n",
              "      <td>Garden</td>\n",
              "      <td>Seller 4</td>\n",
              "      <td>Seller 4-link</td>\n",
              "      <td>Seller 4-storefrontlink</td>\n",
              "      <td>1-16 of 123 results</td>\n",
              "      <td>NaN</td>\n",
              "      <td>7 days home life supermarket is committed to p...</td>\n",
              "      <td>Business Name:Zhengzhou Yaoqiong Trading Company</td>\n",
              "      <td>河南省中兴南路福禄街自贸试验区郑州片区（郑东）河南商会大厦1901室450000CN</td>\n",
              "      <td>1</td>\n",
              "      <td>0</td>\n",
              "      <td>0</td>\n",
              "      <td>0</td>\n",
              "      <td>0</td>\n",
              "      <td>0</td>\n",
              "      <td>SHIFENG</td>\n",
              "      <td>https://www.amazon.de/-/en/s/ref=bl_dp_s_web_0...</td>\n",
              "    </tr>\n",
              "    <tr>\n",
              "      <th>4</th>\n",
              "      <td>2020-11-15</td>\n",
              "      <td>Garden</td>\n",
              "      <td>Seller 5</td>\n",
              "      <td>Seller 5-link</td>\n",
              "      <td>Seller 5-storefrontlink</td>\n",
              "      <td>1-16 of over 1,000 results</td>\n",
              "      <td>81% positive in the last 12 months (52 ratings)</td>\n",
              "      <td>78 68yui678 is committed to providing each cus...</td>\n",
              "      <td>Business Name:shenzhenfeichangshangmeimaoyiyou...</td>\n",
              "      <td>minzhidadaoshaxialaocun94dongA901longhuaxinqus...</td>\n",
              "      <td>16</td>\n",
              "      <td>0</td>\n",
              "      <td>31</td>\n",
              "      <td>15</td>\n",
              "      <td>224</td>\n",
              "      <td>113</td>\n",
              "      <td>YUOKI99</td>\n",
              "      <td>https://www.amazon.de/-/en/s/ref=bl_dp_s_web_0...</td>\n",
              "    </tr>\n",
              "  </tbody>\n",
              "</table>\n",
              "</div>"
            ],
            "text/plain": [
              "  Date Added  ...                                   Sample Brand URL\n",
              "0 2020-11-15  ...  https://www.amazon.de/-/en/stores/YAMAZAKI/pag...\n",
              "1 2020-11-15  ...  https://www.amazon.de/-/en/stores/tesa/page/12...\n",
              "2 2020-11-15  ...  https://www.amazon.de/-/en/s/ref=bl_dp_s_web_0...\n",
              "3 2020-11-15  ...  https://www.amazon.de/-/en/s/ref=bl_dp_s_web_0...\n",
              "4 2020-11-15  ...  https://www.amazon.de/-/en/s/ref=bl_dp_s_web_0...\n",
              "\n",
              "[5 rows x 18 columns]"
            ]
          },
          "metadata": {},
          "execution_count": 752
        }
      ]
    },
    {
      "cell_type": "code",
      "source": [
        "#I want to see the tail of the dataset\n",
        "df.tail()"
      ],
      "metadata": {
        "colab": {
          "base_uri": "https://localhost:8080/",
          "height": 591
        },
        "id": "HxfLKUeiQYt-",
        "outputId": "2e81fe53-3828-47b3-ae1e-6d97f3eb9449"
      },
      "execution_count": 753,
      "outputs": [
        {
          "output_type": "execute_result",
          "data": {
            "text/html": [
              "<div>\n",
              "<style scoped>\n",
              "    .dataframe tbody tr th:only-of-type {\n",
              "        vertical-align: middle;\n",
              "    }\n",
              "\n",
              "    .dataframe tbody tr th {\n",
              "        vertical-align: top;\n",
              "    }\n",
              "\n",
              "    .dataframe thead th {\n",
              "        text-align: right;\n",
              "    }\n",
              "</style>\n",
              "<table border=\"1\" class=\"dataframe\">\n",
              "  <thead>\n",
              "    <tr style=\"text-align: right;\">\n",
              "      <th></th>\n",
              "      <th>Date Added</th>\n",
              "      <th>category</th>\n",
              "      <th>sellerlink</th>\n",
              "      <th>sellerlink-url</th>\n",
              "      <th>sellerstorefront-url</th>\n",
              "      <th>sellerproductcount</th>\n",
              "      <th>sellerratings</th>\n",
              "      <th>sellerdetails</th>\n",
              "      <th>seller business name</th>\n",
              "      <th>businessaddress</th>\n",
              "      <th>Count of seller brands</th>\n",
              "      <th>Max % of negative seller ratings - last 30 days</th>\n",
              "      <th>Max % of negative seller ratings - last 90 days</th>\n",
              "      <th>Max % of negative seller ratings - last 12 months</th>\n",
              "      <th>Hero Product 1 #ratings</th>\n",
              "      <th>Hero Product 2 #ratings</th>\n",
              "      <th>Sample brand name</th>\n",
              "      <th>Sample Brand URL</th>\n",
              "    </tr>\n",
              "  </thead>\n",
              "  <tbody>\n",
              "    <tr>\n",
              "      <th>1834</th>\n",
              "      <td>2020-11-15</td>\n",
              "      <td>Garden</td>\n",
              "      <td>Seller 1835</td>\n",
              "      <td>Seller 1835-link</td>\n",
              "      <td>Seller 1835-storefrontlink</td>\n",
              "      <td>1-16 of over 2,000 results</td>\n",
              "      <td>83% positive in the last 12 months (46 ratings)</td>\n",
              "      <td>ZZM Store is committed to providing each custo...</td>\n",
              "      <td>Business Name:Shenzhen Xinyile Trading Co., Ltd</td>\n",
              "      <td>Longhuaxinqu Longhuajiedao YousongDiergongyequ...</td>\n",
              "      <td>5</td>\n",
              "      <td>0</td>\n",
              "      <td>9</td>\n",
              "      <td>15</td>\n",
              "      <td>95</td>\n",
              "      <td>76</td>\n",
              "      <td>ZZMUK</td>\n",
              "      <td>https://www.amazon.de/-/en/s/ref=bl_dp_s_web_0...</td>\n",
              "    </tr>\n",
              "    <tr>\n",
              "      <th>1835</th>\n",
              "      <td>2020-11-15</td>\n",
              "      <td>Garden</td>\n",
              "      <td>Seller 1836</td>\n",
              "      <td>Seller 1836-link</td>\n",
              "      <td>Seller 1836-storefrontlink</td>\n",
              "      <td>1-16 of over 5,000 results</td>\n",
              "      <td>NaN</td>\n",
              "      <td>ZZMIARY is committed to providing each custome...</td>\n",
              "      <td>Business Name:wujixianzhanpingzongheshangdian</td>\n",
              "      <td>hebeishengshijiazhuangshiwujixiangaotouxiangxi...</td>\n",
              "      <td>0</td>\n",
              "      <td>0</td>\n",
              "      <td>0</td>\n",
              "      <td>0</td>\n",
              "      <td>1</td>\n",
              "      <td>0</td>\n",
              "      <td>Not Applicable</td>\n",
              "      <td>https://www.amazon.de/-/en/s/ref=bl_dp_s_web_0...</td>\n",
              "    </tr>\n",
              "    <tr>\n",
              "      <th>1836</th>\n",
              "      <td>2020-11-15</td>\n",
              "      <td>Garden</td>\n",
              "      <td>Seller 1837</td>\n",
              "      <td>Seller 1837-link</td>\n",
              "      <td>Seller 1837-storefrontlink</td>\n",
              "      <td>1-16 of over 10,000 results</td>\n",
              "      <td>0% positive lifetime (1 total ratings)</td>\n",
              "      <td>zzshd75 is committed to providing each custome...</td>\n",
              "      <td>Business Name:henanliyanshangmaoyouxiangongsi</td>\n",
              "      <td>lankaoxianzhangjunmuzhenzhengzhuangcunerzukaif...</td>\n",
              "      <td>10</td>\n",
              "      <td>0</td>\n",
              "      <td>0</td>\n",
              "      <td>0</td>\n",
              "      <td>1</td>\n",
              "      <td>1</td>\n",
              "      <td>zwbaobei</td>\n",
              "      <td>https://www.amazon.de/-/en/s/ref=bl_dp_s_web_0...</td>\n",
              "    </tr>\n",
              "    <tr>\n",
              "      <th>1837</th>\n",
              "      <td>2020-11-15</td>\n",
              "      <td>Garden</td>\n",
              "      <td>Seller 1838</td>\n",
              "      <td>Seller 1838-link</td>\n",
              "      <td>Seller 1838-storefrontlink</td>\n",
              "      <td>1-16 of 473 results</td>\n",
              "      <td>67% positive lifetime (3 total ratings)</td>\n",
              "      <td>ZZY xiaodian is committed to providing each cu...</td>\n",
              "      <td>Business Name:shanximinsanyizhuangshijiancaiyo...</td>\n",
              "      <td>bei san huan da ming gong jian cai shi changba...</td>\n",
              "      <td>4</td>\n",
              "      <td>0</td>\n",
              "      <td>0</td>\n",
              "      <td>33</td>\n",
              "      <td>9</td>\n",
              "      <td>1</td>\n",
              "      <td>ZZYXiao</td>\n",
              "      <td>https://www.amazon.de/-/en/s/ref=bl_dp_s_web_0...</td>\n",
              "    </tr>\n",
              "    <tr>\n",
              "      <th>1838</th>\n",
              "      <td>2020-11-15</td>\n",
              "      <td>Garden</td>\n",
              "      <td>Seller 1839</td>\n",
              "      <td>Seller 1839-link</td>\n",
              "      <td>Seller 1839-storefrontlink</td>\n",
              "      <td>1-16 of over 20,000 results</td>\n",
              "      <td>100% positive lifetime (2 total ratings)</td>\n",
              "      <td>zzzswbl is committed to providing each custome...</td>\n",
              "      <td>Business Name:nanchangshiyunjianshejizhuangshi...</td>\n",
              "      <td>honggutanxinquhuanandongerlu99haolongxiangyuan...</td>\n",
              "      <td>1</td>\n",
              "      <td>0</td>\n",
              "      <td>0</td>\n",
              "      <td>0</td>\n",
              "      <td>1</td>\n",
              "      <td>1</td>\n",
              "      <td>zzzswbl</td>\n",
              "      <td>https://www.amazon.de/-/en/s/ref=bl_dp_s_web_0...</td>\n",
              "    </tr>\n",
              "  </tbody>\n",
              "</table>\n",
              "</div>"
            ],
            "text/plain": [
              "     Date Added  ...                                   Sample Brand URL\n",
              "1834 2020-11-15  ...  https://www.amazon.de/-/en/s/ref=bl_dp_s_web_0...\n",
              "1835 2020-11-15  ...  https://www.amazon.de/-/en/s/ref=bl_dp_s_web_0...\n",
              "1836 2020-11-15  ...  https://www.amazon.de/-/en/s/ref=bl_dp_s_web_0...\n",
              "1837 2020-11-15  ...  https://www.amazon.de/-/en/s/ref=bl_dp_s_web_0...\n",
              "1838 2020-11-15  ...  https://www.amazon.de/-/en/s/ref=bl_dp_s_web_0...\n",
              "\n",
              "[5 rows x 18 columns]"
            ]
          },
          "metadata": {},
          "execution_count": 753
        }
      ]
    },
    {
      "cell_type": "code",
      "source": [
        "# I want to see the shape of the dataset\n",
        "df.shape"
      ],
      "metadata": {
        "colab": {
          "base_uri": "https://localhost:8080/"
        },
        "id": "Z9ooxorYQYyO",
        "outputId": "4749e1ee-c274-4a1b-ff52-011c1c24bace"
      },
      "execution_count": 754,
      "outputs": [
        {
          "output_type": "execute_result",
          "data": {
            "text/plain": [
              "(1839, 18)"
            ]
          },
          "metadata": {},
          "execution_count": 754
        }
      ]
    },
    {
      "cell_type": "markdown",
      "source": [
        "# After careful observation i found these things I must do"
      ],
      "metadata": {
        "id": "5g7kIq-NQ7lh"
      }
    },
    {
      "cell_type": "code",
      "source": [
        "# Preprocessing Steps\n",
        "# Step 1 : To extract the final value in product count column\n",
        "# Step2 : Extract the positive % value calculate on the given value\n",
        "# Step 3 : Extract the seller E-mail ID's and Phone numbers\n",
        "# Step 4: Extract the country and exclude the china sellers\n",
        "# Step 5 : Finding the best selling product based on hero product rating"
      ],
      "metadata": {
        "id": "31yhGxRWQYzf"
      },
      "execution_count": 755,
      "outputs": []
    },
    {
      "cell_type": "markdown",
      "source": [
        "# STEP-1: To extract the final value in product count column"
      ],
      "metadata": {
        "id": "OtrpVLJpRKdM"
      }
    },
    {
      "cell_type": "code",
      "source": [
        "df['sellerproductcount']=df['sellerproductcount'].str.replace(',','')\n",
        "df['sellerproductcount'] = df.sellerproductcount.str.extract('(\\d+) results')"
      ],
      "metadata": {
        "id": "VEJZ659WQY31"
      },
      "execution_count": 756,
      "outputs": []
    },
    {
      "cell_type": "code",
      "source": [
        "# sanity check the column\n",
        "df['sellerproductcount']"
      ],
      "metadata": {
        "colab": {
          "base_uri": "https://localhost:8080/"
        },
        "id": "oU6j1hXiQY5G",
        "outputId": "715f9e9a-e7f7-4b38-a4da-ce51ca58a18b"
      },
      "execution_count": 757,
      "outputs": [
        {
          "output_type": "execute_result",
          "data": {
            "text/plain": [
              "0       100000\n",
              "1          NaN\n",
              "2         2000\n",
              "3          123\n",
              "4         1000\n",
              "         ...  \n",
              "1834      2000\n",
              "1835      5000\n",
              "1836     10000\n",
              "1837       473\n",
              "1838     20000\n",
              "Name: sellerproductcount, Length: 1839, dtype: object"
            ]
          },
          "metadata": {},
          "execution_count": 757
        }
      ]
    },
    {
      "cell_type": "markdown",
      "source": [
        "# STEP-2: Extract the positive % value calculate on the given value"
      ],
      "metadata": {
        "id": "c9AOiIRhRlA4"
      }
    },
    {
      "cell_type": "code",
      "source": [
        "df['sellerratings'] = df['sellerratings'].str.replace(\"%\",\"\")\n",
        "# removing the % symbol in sellerratings column\n"
      ],
      "metadata": {
        "id": "LRckWu0MQZAE"
      },
      "execution_count": 758,
      "outputs": []
    },
    {
      "cell_type": "code",
      "source": [
        "df['sellerratings1']=df['sellerratings'].str.extract('(\\d+)')\n",
        "# after removing % then we are extracting the value(like 88 value is extracted insted of 88%)\n"
      ],
      "metadata": {
        "id": "fbFM-bL4QZFX"
      },
      "execution_count": 759,
      "outputs": []
    },
    {
      "cell_type": "code",
      "source": [
        "# Now i want to drop null values and change the datatype\n",
        "df['sellerratings1']=df['sellerratings1'].dropna(how='any').astype(int)"
      ],
      "metadata": {
        "id": "KABQXdPlQZGd"
      },
      "execution_count": 760,
      "outputs": []
    },
    {
      "cell_type": "markdown",
      "source": [
        "# Now I  want to extract the ratings "
      ],
      "metadata": {
        "id": "1Ck_eOu_SsxE"
      }
    },
    {
      "cell_type": "code",
      "source": [
        "# Now I am extract the rating values so I want to remove the '(\"   and putting # symbol for instead of \"(\" \n",
        "df['sellerratings12'] = df.sellerratings.str.replace('(','#')"
      ],
      "metadata": {
        "id": "tzqCYKFhQZKK"
      },
      "execution_count": 761,
      "outputs": []
    },
    {
      "cell_type": "code",
      "source": [
        "# here I am extracting the value after # symbol\n",
        "df['sellerratings121'] = df['sellerratings12'].str.extract(r'(?<=#)(\\d+)')"
      ],
      "metadata": {
        "id": "bYTh1KmkTAcE"
      },
      "execution_count": 762,
      "outputs": []
    },
    {
      "cell_type": "code",
      "source": [
        "# converting the data type\n",
        "df['Total_ratings']=df['sellerratings121'].dropna(how='any').astype(int)"
      ],
      "metadata": {
        "id": "SKsOrhl5TAdg"
      },
      "execution_count": 763,
      "outputs": []
    },
    {
      "cell_type": "code",
      "source": [
        "# Now I am calculating the positive percentage\n",
        "# 88% means how much the value\n",
        "df['Perc_Good'] = (df['sellerratings1'] /100) * df['Total_ratings']"
      ],
      "metadata": {
        "id": "K0Dx970ITAhl"
      },
      "execution_count": 764,
      "outputs": []
    },
    {
      "cell_type": "code",
      "source": [
        "# apply the floor value to Positive percentage\n",
        "df['Number_of_Positive_Sellerratings']=df['Perc_Good'].apply(np.floor)"
      ],
      "metadata": {
        "id": "KdceeFtTTAjj"
      },
      "execution_count": 765,
      "outputs": []
    },
    {
      "cell_type": "code",
      "source": [
        "df['negative'] = df['Total_ratings']- df['Perc_Good']\n",
        "# calculate negative rating also\n",
        "df['Number_of_negative_Sellerratings']=df['negative'].apply(np.floor)\n",
        "# applying the ceil value"
      ],
      "metadata": {
        "id": "RKt8p5woTAnk"
      },
      "execution_count": 766,
      "outputs": []
    },
    {
      "cell_type": "markdown",
      "source": [
        "# STEP-3: Extract the country and exclude the china sellers"
      ],
      "metadata": {
        "id": "Uyn7AvI-U9wI"
      }
    },
    {
      "cell_type": "code",
      "source": [
        "# Extract the sellers register in which country and exclude the china sellers\n",
        "k=[]\n",
        "for  i in df['businessaddress']:\n",
        "  i= str(i)\n",
        "  k.append(i[-2:])\n",
        "df['businessaddress'] =k\n",
        "df = df[df.businessaddress != 'CN']"
      ],
      "metadata": {
        "id": "BLCEnNSPTApA"
      },
      "execution_count": 767,
      "outputs": []
    },
    {
      "cell_type": "markdown",
      "source": [
        "# STEP-4: Finding the best selling product based on hero product rating"
      ],
      "metadata": {
        "id": "7MyednKZXje6"
      }
    },
    {
      "cell_type": "code",
      "source": [
        "# Here I am finding the Which product is having best ratings \n",
        "df['Which_product_having_best_rating'] = np.where(df['Hero Product 1 #ratings'] > df['Hero Product 2 #ratings'],'Hero Product 1','Hero Product 2')"
      ],
      "metadata": {
        "colab": {
          "base_uri": "https://localhost:8080/"
        },
        "id": "COau--4sUWWl",
        "outputId": "ef0076d3-46b3-4acb-9db4-8c2c96a0942e"
      },
      "execution_count": 768,
      "outputs": [
        {
          "output_type": "stream",
          "name": "stderr",
          "text": [
            "/usr/local/lib/python3.7/dist-packages/ipykernel_launcher.py:2: SettingWithCopyWarning: \n",
            "A value is trying to be set on a copy of a slice from a DataFrame.\n",
            "Try using .loc[row_indexer,col_indexer] = value instead\n",
            "\n",
            "See the caveats in the documentation: https://pandas.pydata.org/pandas-docs/stable/user_guide/indexing.html#returning-a-view-versus-a-copy\n",
            "  \n"
          ]
        }
      ]
    },
    {
      "cell_type": "code",
      "source": [
        "# Here I want to find the their respected ratings for each product\n",
        "df['best_ratings_for_each_product'] = np.where(df['Hero Product 1 #ratings'] > df['Hero Product 2 #ratings'],df['Hero Product 1 #ratings'] , df['Hero Product 2 #ratings'])"
      ],
      "metadata": {
        "colab": {
          "base_uri": "https://localhost:8080/"
        },
        "id": "yrh7AEuZUWX6",
        "outputId": "6bd5914f-141f-47dd-f02e-a447da74e5cf"
      },
      "execution_count": 769,
      "outputs": [
        {
          "output_type": "stream",
          "name": "stderr",
          "text": [
            "/usr/local/lib/python3.7/dist-packages/ipykernel_launcher.py:2: SettingWithCopyWarning: \n",
            "A value is trying to be set on a copy of a slice from a DataFrame.\n",
            "Try using .loc[row_indexer,col_indexer] = value instead\n",
            "\n",
            "See the caveats in the documentation: https://pandas.pydata.org/pandas-docs/stable/user_guide/indexing.html#returning-a-view-versus-a-copy\n",
            "  \n"
          ]
        }
      ]
    },
    {
      "cell_type": "markdown",
      "source": [
        "# STEP-5: Extract the seller E-mail ID's and Phone numbers"
      ],
      "metadata": {
        "id": "tgHIviVGaJgp"
      }
    },
    {
      "cell_type": "code",
      "source": [
        "# finding the emails and adding to the dataframe\n",
        "import re\n",
        "def find_email(sellerdetails):\n",
        "    email = re.findall(r'[\\w\\.-]+@[\\w\\.-]+',str(sellerdetails))\n",
        "    return \",\".join(email)\n",
        "df['email']=df['sellerdetails'].apply(lambda x: find_email(x))\n",
        "print(\"\\Extracting email from dataframe columns:\")\n",
        "print(df['email'])"
      ],
      "metadata": {
        "colab": {
          "base_uri": "https://localhost:8080/"
        },
        "id": "8bAOED79UWcA",
        "outputId": "f3c22223-6ef0-43d6-f900-d89c419c7fbc"
      },
      "execution_count": 770,
      "outputs": [
        {
          "output_type": "stream",
          "name": "stdout",
          "text": [
            "\\Extracting email from dataframe columns:\n",
            "0                                   jadgemaello@gmail.com\n",
            "1       info@1a-handelsagentur.de,info@1a-handelsagent...\n",
            "5                                                        \n",
            "14                                 webmaster@9pm-store.de\n",
            "19                                       abc-markt@web.de\n",
            "                              ...                        \n",
            "1808                                                     \n",
            "1813                info@zurrosakuh.de,info@zurrosakuh.de\n",
            "1814    r.joormann@googlemail.com,r.joormann@googlemai...\n",
            "1815                                                     \n",
            "1828                                                     \n",
            "Name: email, Length: 602, dtype: object\n"
          ]
        },
        {
          "output_type": "stream",
          "name": "stderr",
          "text": [
            "/usr/local/lib/python3.7/dist-packages/ipykernel_launcher.py:6: SettingWithCopyWarning: \n",
            "A value is trying to be set on a copy of a slice from a DataFrame.\n",
            "Try using .loc[row_indexer,col_indexer] = value instead\n",
            "\n",
            "See the caveats in the documentation: https://pandas.pydata.org/pandas-docs/stable/user_guide/indexing.html#returning-a-view-versus-a-copy\n",
            "  \n"
          ]
        }
      ]
    },
    {
      "cell_type": "code",
      "source": [
        "# telefone having different names so i can change all names and give the single name\n",
        "df['sellerdetails']=df.sellerdetails.str.replace('Telefonnummer:','Telefone')\n",
        "df['sellerdetails']=df.sellerdetails.str.replace('telefonnummer:','Telefone')\n",
        "df['sellerdetails']=df.sellerdetails.str.replace('telfone:','Telefone')\n",
        "df['sellerdetails']=df.sellerdetails.str.replace('Tel.:','Telefone')\n",
        "df['sellerdetails']=df.sellerdetails.str.replace('Tel:','Telefone')\n",
        "df['sellerdetails']=df.sellerdetails.str.replace('tel:','Telefone')\n"
      ],
      "metadata": {
        "id": "5z_ORrmLzrQs",
        "colab": {
          "base_uri": "https://localhost:8080/"
        },
        "outputId": "1fb6f777-40cb-4b7c-af77-6af1d6d2e9a7"
      },
      "execution_count": 771,
      "outputs": [
        {
          "output_type": "stream",
          "name": "stderr",
          "text": [
            "/usr/local/lib/python3.7/dist-packages/ipykernel_launcher.py:2: SettingWithCopyWarning: \n",
            "A value is trying to be set on a copy of a slice from a DataFrame.\n",
            "Try using .loc[row_indexer,col_indexer] = value instead\n",
            "\n",
            "See the caveats in the documentation: https://pandas.pydata.org/pandas-docs/stable/user_guide/indexing.html#returning-a-view-versus-a-copy\n",
            "  \n",
            "/usr/local/lib/python3.7/dist-packages/ipykernel_launcher.py:3: SettingWithCopyWarning: \n",
            "A value is trying to be set on a copy of a slice from a DataFrame.\n",
            "Try using .loc[row_indexer,col_indexer] = value instead\n",
            "\n",
            "See the caveats in the documentation: https://pandas.pydata.org/pandas-docs/stable/user_guide/indexing.html#returning-a-view-versus-a-copy\n",
            "  This is separate from the ipykernel package so we can avoid doing imports until\n",
            "/usr/local/lib/python3.7/dist-packages/ipykernel_launcher.py:4: SettingWithCopyWarning: \n",
            "A value is trying to be set on a copy of a slice from a DataFrame.\n",
            "Try using .loc[row_indexer,col_indexer] = value instead\n",
            "\n",
            "See the caveats in the documentation: https://pandas.pydata.org/pandas-docs/stable/user_guide/indexing.html#returning-a-view-versus-a-copy\n",
            "  after removing the cwd from sys.path.\n",
            "/usr/local/lib/python3.7/dist-packages/ipykernel_launcher.py:5: SettingWithCopyWarning: \n",
            "A value is trying to be set on a copy of a slice from a DataFrame.\n",
            "Try using .loc[row_indexer,col_indexer] = value instead\n",
            "\n",
            "See the caveats in the documentation: https://pandas.pydata.org/pandas-docs/stable/user_guide/indexing.html#returning-a-view-versus-a-copy\n",
            "  \"\"\"\n",
            "/usr/local/lib/python3.7/dist-packages/ipykernel_launcher.py:6: SettingWithCopyWarning: \n",
            "A value is trying to be set on a copy of a slice from a DataFrame.\n",
            "Try using .loc[row_indexer,col_indexer] = value instead\n",
            "\n",
            "See the caveats in the documentation: https://pandas.pydata.org/pandas-docs/stable/user_guide/indexing.html#returning-a-view-versus-a-copy\n",
            "  \n",
            "/usr/local/lib/python3.7/dist-packages/ipykernel_launcher.py:7: SettingWithCopyWarning: \n",
            "A value is trying to be set on a copy of a slice from a DataFrame.\n",
            "Try using .loc[row_indexer,col_indexer] = value instead\n",
            "\n",
            "See the caveats in the documentation: https://pandas.pydata.org/pandas-docs/stable/user_guide/indexing.html#returning-a-view-versus-a-copy\n",
            "  import sys\n"
          ]
        }
      ]
    },
    {
      "cell_type": "code",
      "source": [
        "# finding the Mobile numbers of the sellers\n",
        "def find_telefone(sellerdetails):\n",
        "    Telefone = re.findall(r'(?<=Telefone )(\\d+)',str(sellerdetails))\n",
        "    return \",\".join(Telefone)\n",
        "df['Telefone']=df['sellerdetails'].apply(lambda x:find_telefone(x))\n",
        "print(\"\\Extracting email from dataframe columns:\")\n",
        "print(df['Telefone'])"
      ],
      "metadata": {
        "colab": {
          "base_uri": "https://localhost:8080/"
        },
        "id": "KEcDelu-dQvN",
        "outputId": "d931880c-e5dd-4d4b-eec6-de75cbe65b60"
      },
      "execution_count": 772,
      "outputs": [
        {
          "output_type": "stream",
          "name": "stdout",
          "text": [
            "\\Extracting email from dataframe columns:\n",
            "0                 \n",
            "1           039932\n",
            "5                 \n",
            "14                \n",
            "19      0570591155\n",
            "           ...    \n",
            "1808              \n",
            "1813              \n",
            "1814              \n",
            "1815              \n",
            "1828              \n",
            "Name: Telefone, Length: 602, dtype: object\n"
          ]
        },
        {
          "output_type": "stream",
          "name": "stderr",
          "text": [
            "/usr/local/lib/python3.7/dist-packages/ipykernel_launcher.py:5: SettingWithCopyWarning: \n",
            "A value is trying to be set on a copy of a slice from a DataFrame.\n",
            "Try using .loc[row_indexer,col_indexer] = value instead\n",
            "\n",
            "See the caveats in the documentation: https://pandas.pydata.org/pandas-docs/stable/user_guide/indexing.html#returning-a-view-versus-a-copy\n",
            "  \"\"\"\n"
          ]
        }
      ]
    },
    {
      "cell_type": "markdown",
      "source": [
        "# Completed the all steps in the assignmet and "
      ],
      "metadata": {
        "id": "8tY4hZfRd7gE"
      }
    },
    {
      "cell_type": "code",
      "source": [
        "# Now removing the Unnecessary columns in the dataset\n",
        "df.head()"
      ],
      "metadata": {
        "colab": {
          "base_uri": "https://localhost:8080/",
          "height": 591
        },
        "id": "lUxK1vF2dQ6F",
        "outputId": "baf3e6ea-fd6d-479d-c057-73c3c4a9af00"
      },
      "execution_count": 773,
      "outputs": [
        {
          "output_type": "execute_result",
          "data": {
            "text/html": [
              "<div>\n",
              "<style scoped>\n",
              "    .dataframe tbody tr th:only-of-type {\n",
              "        vertical-align: middle;\n",
              "    }\n",
              "\n",
              "    .dataframe tbody tr th {\n",
              "        vertical-align: top;\n",
              "    }\n",
              "\n",
              "    .dataframe thead th {\n",
              "        text-align: right;\n",
              "    }\n",
              "</style>\n",
              "<table border=\"1\" class=\"dataframe\">\n",
              "  <thead>\n",
              "    <tr style=\"text-align: right;\">\n",
              "      <th></th>\n",
              "      <th>Date Added</th>\n",
              "      <th>category</th>\n",
              "      <th>sellerlink</th>\n",
              "      <th>sellerlink-url</th>\n",
              "      <th>sellerstorefront-url</th>\n",
              "      <th>sellerproductcount</th>\n",
              "      <th>sellerratings</th>\n",
              "      <th>sellerdetails</th>\n",
              "      <th>seller business name</th>\n",
              "      <th>businessaddress</th>\n",
              "      <th>Count of seller brands</th>\n",
              "      <th>Max % of negative seller ratings - last 30 days</th>\n",
              "      <th>Max % of negative seller ratings - last 90 days</th>\n",
              "      <th>Max % of negative seller ratings - last 12 months</th>\n",
              "      <th>Hero Product 1 #ratings</th>\n",
              "      <th>Hero Product 2 #ratings</th>\n",
              "      <th>Sample brand name</th>\n",
              "      <th>Sample Brand URL</th>\n",
              "      <th>sellerratings1</th>\n",
              "      <th>sellerratings12</th>\n",
              "      <th>sellerratings121</th>\n",
              "      <th>Total_ratings</th>\n",
              "      <th>Perc_Good</th>\n",
              "      <th>Number_of_Positive_Sellerratings</th>\n",
              "      <th>negative</th>\n",
              "      <th>Number_of_negative_Sellerratings</th>\n",
              "      <th>Which_product_having_best_rating</th>\n",
              "      <th>best_ratings_for_each_product</th>\n",
              "      <th>email</th>\n",
              "      <th>Telefone</th>\n",
              "    </tr>\n",
              "  </thead>\n",
              "  <tbody>\n",
              "    <tr>\n",
              "      <th>0</th>\n",
              "      <td>2020-11-15</td>\n",
              "      <td>Garden</td>\n",
              "      <td>Seller 1</td>\n",
              "      <td>Seller 1-link</td>\n",
              "      <td>Seller 1-storefrontlink</td>\n",
              "      <td>100000</td>\n",
              "      <td>88 positive in the last 12 months (118 ratings)</td>\n",
              "      <td>Lohas Living Inc James Mazzello US 845 3RD Ave...</td>\n",
              "      <td>Business Name:Lohas Living Inc</td>\n",
              "      <td>US</td>\n",
              "      <td>16</td>\n",
              "      <td>17</td>\n",
              "      <td>11</td>\n",
              "      <td>12</td>\n",
              "      <td>5873</td>\n",
              "      <td>4957</td>\n",
              "      <td>Visit the YAMAZAKI Store</td>\n",
              "      <td>https://www.amazon.de/-/en/stores/YAMAZAKI/pag...</td>\n",
              "      <td>88.0</td>\n",
              "      <td>88 positive in the last 12 months #118 ratings)</td>\n",
              "      <td>118</td>\n",
              "      <td>118.0</td>\n",
              "      <td>103.84</td>\n",
              "      <td>103.0</td>\n",
              "      <td>14.16</td>\n",
              "      <td>14.0</td>\n",
              "      <td>Hero Product 1</td>\n",
              "      <td>5873</td>\n",
              "      <td>jadgemaello@gmail.com</td>\n",
              "      <td></td>\n",
              "    </tr>\n",
              "    <tr>\n",
              "      <th>1</th>\n",
              "      <td>2020-11-15</td>\n",
              "      <td>Garden</td>\n",
              "      <td>Seller 2</td>\n",
              "      <td>Seller 2-link</td>\n",
              "      <td>Seller 2-storefrontlink</td>\n",
              "      <td>NaN</td>\n",
              "      <td>90 positive in the last 12 months (566 ratings)</td>\n",
              "      <td>Herzlich Willkommen im Amazon Shop von 1a-Hand...</td>\n",
              "      <td>Business Name:1a-Handelsagentur</td>\n",
              "      <td>DE</td>\n",
              "      <td>0</td>\n",
              "      <td>2</td>\n",
              "      <td>2</td>\n",
              "      <td>9</td>\n",
              "      <td>0</td>\n",
              "      <td>0</td>\n",
              "      <td>Visit the tesa Store</td>\n",
              "      <td>https://www.amazon.de/-/en/stores/tesa/page/12...</td>\n",
              "      <td>90.0</td>\n",
              "      <td>90 positive in the last 12 months #566 ratings)</td>\n",
              "      <td>566</td>\n",
              "      <td>566.0</td>\n",
              "      <td>509.40</td>\n",
              "      <td>509.0</td>\n",
              "      <td>56.60</td>\n",
              "      <td>56.0</td>\n",
              "      <td>Hero Product 2</td>\n",
              "      <td>0</td>\n",
              "      <td>info@1a-handelsagentur.de,info@1a-handelsagent...</td>\n",
              "      <td>039932</td>\n",
              "    </tr>\n",
              "    <tr>\n",
              "      <th>5</th>\n",
              "      <td>2020-11-15</td>\n",
              "      <td>Garden</td>\n",
              "      <td>Seller 6</td>\n",
              "      <td>Seller 6-link</td>\n",
              "      <td>Seller 6-storefrontlink</td>\n",
              "      <td>28</td>\n",
              "      <td>NaN</td>\n",
              "      <td>7830jeff is committed to providing each custom...</td>\n",
              "      <td>NaN</td>\n",
              "      <td>an</td>\n",
              "      <td>13</td>\n",
              "      <td>0</td>\n",
              "      <td>0</td>\n",
              "      <td>0</td>\n",
              "      <td>3284</td>\n",
              "      <td>2944</td>\n",
              "      <td>Strata</td>\n",
              "      <td>https://www.amazon.de/-/en/s/ref=bl_dp_s_web_0...</td>\n",
              "      <td>NaN</td>\n",
              "      <td>NaN</td>\n",
              "      <td>NaN</td>\n",
              "      <td>NaN</td>\n",
              "      <td>NaN</td>\n",
              "      <td>NaN</td>\n",
              "      <td>NaN</td>\n",
              "      <td>NaN</td>\n",
              "      <td>Hero Product 1</td>\n",
              "      <td>3284</td>\n",
              "      <td></td>\n",
              "      <td></td>\n",
              "    </tr>\n",
              "    <tr>\n",
              "      <th>14</th>\n",
              "      <td>2020-11-15</td>\n",
              "      <td>Garden</td>\n",
              "      <td>Seller 15</td>\n",
              "      <td>Seller 15-link</td>\n",
              "      <td>Seller 15-storefrontlink</td>\n",
              "      <td>919</td>\n",
              "      <td>97 positive in the last 12 months (116 ratings)</td>\n",
              "      <td>Impressum\\n \\n Gesetzliche Anbieterkennung:\\n ...</td>\n",
              "      <td>Business Name:Oliver Mills</td>\n",
              "      <td>DE</td>\n",
              "      <td>15</td>\n",
              "      <td>0</td>\n",
              "      <td>0</td>\n",
              "      <td>3</td>\n",
              "      <td>1446</td>\n",
              "      <td>921</td>\n",
              "      <td>Unbekannt</td>\n",
              "      <td>https://www.amazon.de/-/en/Unbekannt/b/ref=bl_...</td>\n",
              "      <td>97.0</td>\n",
              "      <td>97 positive in the last 12 months #116 ratings)</td>\n",
              "      <td>116</td>\n",
              "      <td>116.0</td>\n",
              "      <td>112.52</td>\n",
              "      <td>112.0</td>\n",
              "      <td>3.48</td>\n",
              "      <td>3.0</td>\n",
              "      <td>Hero Product 1</td>\n",
              "      <td>1446</td>\n",
              "      <td>webmaster@9pm-store.de</td>\n",
              "      <td></td>\n",
              "    </tr>\n",
              "    <tr>\n",
              "      <th>19</th>\n",
              "      <td>2020-11-15</td>\n",
              "      <td>Garden</td>\n",
              "      <td>Seller 20</td>\n",
              "      <td>Seller 20-link</td>\n",
              "      <td>Seller 20-storefrontlink</td>\n",
              "      <td>NaN</td>\n",
              "      <td>76 positive in the last 12 months (3721 ratings)</td>\n",
              "      <td>Impressum: ABC-Schnäppchenmarkt GmbH \\n Jösser...</td>\n",
              "      <td>Business Name:ABC-Schnäppchenmarkt GmbH</td>\n",
              "      <td>DE</td>\n",
              "      <td>0</td>\n",
              "      <td>18</td>\n",
              "      <td>20</td>\n",
              "      <td>20</td>\n",
              "      <td>0</td>\n",
              "      <td>0</td>\n",
              "      <td>Visit the TFA Dostmann Store</td>\n",
              "      <td>https://www.amazon.de/-/en/stores/TFA+Dostmann...</td>\n",
              "      <td>76.0</td>\n",
              "      <td>76 positive in the last 12 months #3721 ratings)</td>\n",
              "      <td>3721</td>\n",
              "      <td>3721.0</td>\n",
              "      <td>2827.96</td>\n",
              "      <td>2827.0</td>\n",
              "      <td>893.04</td>\n",
              "      <td>893.0</td>\n",
              "      <td>Hero Product 2</td>\n",
              "      <td>0</td>\n",
              "      <td>abc-markt@web.de</td>\n",
              "      <td>0570591155</td>\n",
              "    </tr>\n",
              "  </tbody>\n",
              "</table>\n",
              "</div>"
            ],
            "text/plain": [
              "   Date Added  ...    Telefone\n",
              "0  2020-11-15  ...            \n",
              "1  2020-11-15  ...      039932\n",
              "5  2020-11-15  ...            \n",
              "14 2020-11-15  ...            \n",
              "19 2020-11-15  ...  0570591155\n",
              "\n",
              "[5 rows x 30 columns]"
            ]
          },
          "metadata": {},
          "execution_count": 773
        }
      ]
    },
    {
      "cell_type": "code",
      "source": [
        "de = ['sellerlink','sellerlink-url','sellerstorefront-url','sellerratings','sellerratings121','sellerdetails','seller business name','Sample brand name','Sample Brand URL','sellerratings12','Perc_Good','negative',]"
      ],
      "metadata": {
        "id": "auKQ_uWLdQ9J"
      },
      "execution_count": 774,
      "outputs": []
    },
    {
      "cell_type": "markdown",
      "source": [
        "# Here I am dropping the columns Based on assignment only"
      ],
      "metadata": {
        "id": "H4KELRWwh-Lf"
      }
    },
    {
      "cell_type": "code",
      "source": [
        "# droping the columns\n",
        "df.drop(de,axis=1 , inplace=True)"
      ],
      "metadata": {
        "id": "sxoDTABct7Ep"
      },
      "execution_count": 775,
      "outputs": []
    },
    {
      "cell_type": "code",
      "source": [
        "df=df.rename(columns={'Date Added': 'Date_added','category':'Category','Count of seller brands':'Count_of_seller_brands','Max % of negative seller ratings - last 30 days':'Max_%_of_negative_seller_ratings_last_30_days','Max % of negative seller ratings - last 90 days':'Negative%_of _last_90_days','Max % of negative seller ratings - last 12 months' :'Last_12_months_negative%'})"
      ],
      "metadata": {
        "id": "eNx4BMGZiO0J"
      },
      "execution_count": 776,
      "outputs": []
    },
    {
      "cell_type": "code",
      "source": [
        "df.head()"
      ],
      "metadata": {
        "colab": {
          "base_uri": "https://localhost:8080/",
          "height": 313
        },
        "id": "J61edknfkRY5",
        "outputId": "ba2f447a-b7d1-4c42-b91e-c07fc06d7c4a"
      },
      "execution_count": 777,
      "outputs": [
        {
          "output_type": "execute_result",
          "data": {
            "text/html": [
              "<div>\n",
              "<style scoped>\n",
              "    .dataframe tbody tr th:only-of-type {\n",
              "        vertical-align: middle;\n",
              "    }\n",
              "\n",
              "    .dataframe tbody tr th {\n",
              "        vertical-align: top;\n",
              "    }\n",
              "\n",
              "    .dataframe thead th {\n",
              "        text-align: right;\n",
              "    }\n",
              "</style>\n",
              "<table border=\"1\" class=\"dataframe\">\n",
              "  <thead>\n",
              "    <tr style=\"text-align: right;\">\n",
              "      <th></th>\n",
              "      <th>Date_added</th>\n",
              "      <th>Category</th>\n",
              "      <th>sellerproductcount</th>\n",
              "      <th>businessaddress</th>\n",
              "      <th>Count_of_seller_brands</th>\n",
              "      <th>Max_%_of_negative_seller_ratings_last_30_days</th>\n",
              "      <th>Negative%_of _last_90_days</th>\n",
              "      <th>Last_12_months_negative%</th>\n",
              "      <th>Hero Product 1 #ratings</th>\n",
              "      <th>Hero Product 2 #ratings</th>\n",
              "      <th>sellerratings1</th>\n",
              "      <th>Total_ratings</th>\n",
              "      <th>Number_of_Positive_Sellerratings</th>\n",
              "      <th>Number_of_negative_Sellerratings</th>\n",
              "      <th>Which_product_having_best_rating</th>\n",
              "      <th>best_ratings_for_each_product</th>\n",
              "      <th>email</th>\n",
              "      <th>Telefone</th>\n",
              "    </tr>\n",
              "  </thead>\n",
              "  <tbody>\n",
              "    <tr>\n",
              "      <th>0</th>\n",
              "      <td>2020-11-15</td>\n",
              "      <td>Garden</td>\n",
              "      <td>100000</td>\n",
              "      <td>US</td>\n",
              "      <td>16</td>\n",
              "      <td>17</td>\n",
              "      <td>11</td>\n",
              "      <td>12</td>\n",
              "      <td>5873</td>\n",
              "      <td>4957</td>\n",
              "      <td>88.0</td>\n",
              "      <td>118.0</td>\n",
              "      <td>103.0</td>\n",
              "      <td>14.0</td>\n",
              "      <td>Hero Product 1</td>\n",
              "      <td>5873</td>\n",
              "      <td>jadgemaello@gmail.com</td>\n",
              "      <td></td>\n",
              "    </tr>\n",
              "    <tr>\n",
              "      <th>1</th>\n",
              "      <td>2020-11-15</td>\n",
              "      <td>Garden</td>\n",
              "      <td>NaN</td>\n",
              "      <td>DE</td>\n",
              "      <td>0</td>\n",
              "      <td>2</td>\n",
              "      <td>2</td>\n",
              "      <td>9</td>\n",
              "      <td>0</td>\n",
              "      <td>0</td>\n",
              "      <td>90.0</td>\n",
              "      <td>566.0</td>\n",
              "      <td>509.0</td>\n",
              "      <td>56.0</td>\n",
              "      <td>Hero Product 2</td>\n",
              "      <td>0</td>\n",
              "      <td>info@1a-handelsagentur.de,info@1a-handelsagent...</td>\n",
              "      <td>039932</td>\n",
              "    </tr>\n",
              "    <tr>\n",
              "      <th>5</th>\n",
              "      <td>2020-11-15</td>\n",
              "      <td>Garden</td>\n",
              "      <td>28</td>\n",
              "      <td>an</td>\n",
              "      <td>13</td>\n",
              "      <td>0</td>\n",
              "      <td>0</td>\n",
              "      <td>0</td>\n",
              "      <td>3284</td>\n",
              "      <td>2944</td>\n",
              "      <td>NaN</td>\n",
              "      <td>NaN</td>\n",
              "      <td>NaN</td>\n",
              "      <td>NaN</td>\n",
              "      <td>Hero Product 1</td>\n",
              "      <td>3284</td>\n",
              "      <td></td>\n",
              "      <td></td>\n",
              "    </tr>\n",
              "    <tr>\n",
              "      <th>14</th>\n",
              "      <td>2020-11-15</td>\n",
              "      <td>Garden</td>\n",
              "      <td>919</td>\n",
              "      <td>DE</td>\n",
              "      <td>15</td>\n",
              "      <td>0</td>\n",
              "      <td>0</td>\n",
              "      <td>3</td>\n",
              "      <td>1446</td>\n",
              "      <td>921</td>\n",
              "      <td>97.0</td>\n",
              "      <td>116.0</td>\n",
              "      <td>112.0</td>\n",
              "      <td>3.0</td>\n",
              "      <td>Hero Product 1</td>\n",
              "      <td>1446</td>\n",
              "      <td>webmaster@9pm-store.de</td>\n",
              "      <td></td>\n",
              "    </tr>\n",
              "    <tr>\n",
              "      <th>19</th>\n",
              "      <td>2020-11-15</td>\n",
              "      <td>Garden</td>\n",
              "      <td>NaN</td>\n",
              "      <td>DE</td>\n",
              "      <td>0</td>\n",
              "      <td>18</td>\n",
              "      <td>20</td>\n",
              "      <td>20</td>\n",
              "      <td>0</td>\n",
              "      <td>0</td>\n",
              "      <td>76.0</td>\n",
              "      <td>3721.0</td>\n",
              "      <td>2827.0</td>\n",
              "      <td>893.0</td>\n",
              "      <td>Hero Product 2</td>\n",
              "      <td>0</td>\n",
              "      <td>abc-markt@web.de</td>\n",
              "      <td>0570591155</td>\n",
              "    </tr>\n",
              "  </tbody>\n",
              "</table>\n",
              "</div>"
            ],
            "text/plain": [
              "   Date_added  ...    Telefone\n",
              "0  2020-11-15  ...            \n",
              "1  2020-11-15  ...      039932\n",
              "5  2020-11-15  ...            \n",
              "14 2020-11-15  ...            \n",
              "19 2020-11-15  ...  0570591155\n",
              "\n",
              "[5 rows x 18 columns]"
            ]
          },
          "metadata": {},
          "execution_count": 777
        }
      ]
    },
    {
      "cell_type": "code",
      "source": [
        "# I want to find the null values in the dataset\n",
        "df.isnull().sum()"
      ],
      "metadata": {
        "colab": {
          "base_uri": "https://localhost:8080/"
        },
        "id": "4lBukG1UkTZ2",
        "outputId": "7afbbbe3-1724-423b-ddc0-82524f04fc93"
      },
      "execution_count": 778,
      "outputs": [
        {
          "output_type": "execute_result",
          "data": {
            "text/plain": [
              "Date_added                                         0\n",
              "Category                                           0\n",
              "sellerproductcount                               121\n",
              "businessaddress                                    0\n",
              "Count_of_seller_brands                             0\n",
              "Max_%_of_negative_seller_ratings_last_30_days      0\n",
              "Negative%_of _last_90_days                         0\n",
              "Last_12_months_negative%                           0\n",
              "Hero Product 1 #ratings                            0\n",
              "Hero Product 2 #ratings                            0\n",
              "sellerratings1                                    43\n",
              "Total_ratings                                     43\n",
              "Number_of_Positive_Sellerratings                  43\n",
              "Number_of_negative_Sellerratings                  43\n",
              "Which_product_having_best_rating                   0\n",
              "best_ratings_for_each_product                      0\n",
              "email                                              0\n",
              "Telefone                                           0\n",
              "dtype: int64"
            ]
          },
          "metadata": {},
          "execution_count": 778
        }
      ]
    },
    {
      "cell_type": "code",
      "source": [
        "# Now I am converting the data type of sellerproductcount column\n",
        "df['sellerproductcount']=round(df.sellerproductcount.astype(float),0)"
      ],
      "metadata": {
        "id": "Mtgwk4sAnDOU"
      },
      "execution_count": 779,
      "outputs": []
    },
    {
      "cell_type": "markdown",
      "source": [
        "# Treatment With the missing values"
      ],
      "metadata": {
        "id": "VryCUVEXn5QS"
      }
    },
    {
      "cell_type": "code",
      "source": [
        "# filling the missing values\n",
        "miss_values= ['sellerproductcount','sellerratings1','Total_ratings','Number_of_Positive_Sellerratings','Number_of_negative_Sellerratings']"
      ],
      "metadata": {
        "id": "XZhSpfr4nvN0"
      },
      "execution_count": 780,
      "outputs": []
    },
    {
      "cell_type": "code",
      "source": [
        "# filling all columns all missing values\n",
        "for i in miss_values:\n",
        "  df[i]=df[i].fillna(df[i].mean())"
      ],
      "metadata": {
        "id": "yYk-cyzMoYIl"
      },
      "execution_count": 781,
      "outputs": []
    },
    {
      "cell_type": "code",
      "source": [
        "#Know checking \n",
        "df.isnull().sum()"
      ],
      "metadata": {
        "colab": {
          "base_uri": "https://localhost:8080/"
        },
        "id": "DUz0liano_LU",
        "outputId": "e16454c7-195c-435f-e2e0-f0fc145058ce"
      },
      "execution_count": 782,
      "outputs": [
        {
          "output_type": "execute_result",
          "data": {
            "text/plain": [
              "Date_added                                       0\n",
              "Category                                         0\n",
              "sellerproductcount                               0\n",
              "businessaddress                                  0\n",
              "Count_of_seller_brands                           0\n",
              "Max_%_of_negative_seller_ratings_last_30_days    0\n",
              "Negative%_of _last_90_days                       0\n",
              "Last_12_months_negative%                         0\n",
              "Hero Product 1 #ratings                          0\n",
              "Hero Product 2 #ratings                          0\n",
              "sellerratings1                                   0\n",
              "Total_ratings                                    0\n",
              "Number_of_Positive_Sellerratings                 0\n",
              "Number_of_negative_Sellerratings                 0\n",
              "Which_product_having_best_rating                 0\n",
              "best_ratings_for_each_product                    0\n",
              "email                                            0\n",
              "Telefone                                         0\n",
              "dtype: int64"
            ]
          },
          "metadata": {},
          "execution_count": 782
        }
      ]
    },
    {
      "cell_type": "code",
      "source": [
        "df.head()"
      ],
      "metadata": {
        "colab": {
          "base_uri": "https://localhost:8080/",
          "height": 313
        },
        "id": "Uq4Gdf5hpq5D",
        "outputId": "076c6261-efe1-47a9-d8ed-1d84ea9b99f2"
      },
      "execution_count": 783,
      "outputs": [
        {
          "output_type": "execute_result",
          "data": {
            "text/html": [
              "<div>\n",
              "<style scoped>\n",
              "    .dataframe tbody tr th:only-of-type {\n",
              "        vertical-align: middle;\n",
              "    }\n",
              "\n",
              "    .dataframe tbody tr th {\n",
              "        vertical-align: top;\n",
              "    }\n",
              "\n",
              "    .dataframe thead th {\n",
              "        text-align: right;\n",
              "    }\n",
              "</style>\n",
              "<table border=\"1\" class=\"dataframe\">\n",
              "  <thead>\n",
              "    <tr style=\"text-align: right;\">\n",
              "      <th></th>\n",
              "      <th>Date_added</th>\n",
              "      <th>Category</th>\n",
              "      <th>sellerproductcount</th>\n",
              "      <th>businessaddress</th>\n",
              "      <th>Count_of_seller_brands</th>\n",
              "      <th>Max_%_of_negative_seller_ratings_last_30_days</th>\n",
              "      <th>Negative%_of _last_90_days</th>\n",
              "      <th>Last_12_months_negative%</th>\n",
              "      <th>Hero Product 1 #ratings</th>\n",
              "      <th>Hero Product 2 #ratings</th>\n",
              "      <th>sellerratings1</th>\n",
              "      <th>Total_ratings</th>\n",
              "      <th>Number_of_Positive_Sellerratings</th>\n",
              "      <th>Number_of_negative_Sellerratings</th>\n",
              "      <th>Which_product_having_best_rating</th>\n",
              "      <th>best_ratings_for_each_product</th>\n",
              "      <th>email</th>\n",
              "      <th>Telefone</th>\n",
              "    </tr>\n",
              "  </thead>\n",
              "  <tbody>\n",
              "    <tr>\n",
              "      <th>0</th>\n",
              "      <td>2020-11-15</td>\n",
              "      <td>Garden</td>\n",
              "      <td>100000.000000</td>\n",
              "      <td>US</td>\n",
              "      <td>16</td>\n",
              "      <td>17</td>\n",
              "      <td>11</td>\n",
              "      <td>12</td>\n",
              "      <td>5873</td>\n",
              "      <td>4957</td>\n",
              "      <td>88.000000</td>\n",
              "      <td>118.000000</td>\n",
              "      <td>103.000000</td>\n",
              "      <td>14.000000</td>\n",
              "      <td>Hero Product 1</td>\n",
              "      <td>5873</td>\n",
              "      <td>jadgemaello@gmail.com</td>\n",
              "      <td></td>\n",
              "    </tr>\n",
              "    <tr>\n",
              "      <th>1</th>\n",
              "      <td>2020-11-15</td>\n",
              "      <td>Garden</td>\n",
              "      <td>6538.110187</td>\n",
              "      <td>DE</td>\n",
              "      <td>0</td>\n",
              "      <td>2</td>\n",
              "      <td>2</td>\n",
              "      <td>9</td>\n",
              "      <td>0</td>\n",
              "      <td>0</td>\n",
              "      <td>90.000000</td>\n",
              "      <td>566.000000</td>\n",
              "      <td>509.000000</td>\n",
              "      <td>56.000000</td>\n",
              "      <td>Hero Product 2</td>\n",
              "      <td>0</td>\n",
              "      <td>info@1a-handelsagentur.de,info@1a-handelsagent...</td>\n",
              "      <td>039932</td>\n",
              "    </tr>\n",
              "    <tr>\n",
              "      <th>5</th>\n",
              "      <td>2020-11-15</td>\n",
              "      <td>Garden</td>\n",
              "      <td>28.000000</td>\n",
              "      <td>an</td>\n",
              "      <td>13</td>\n",
              "      <td>0</td>\n",
              "      <td>0</td>\n",
              "      <td>0</td>\n",
              "      <td>3284</td>\n",
              "      <td>2944</td>\n",
              "      <td>90.266547</td>\n",
              "      <td>462.515206</td>\n",
              "      <td>431.468694</td>\n",
              "      <td>30.266547</td>\n",
              "      <td>Hero Product 1</td>\n",
              "      <td>3284</td>\n",
              "      <td></td>\n",
              "      <td></td>\n",
              "    </tr>\n",
              "    <tr>\n",
              "      <th>14</th>\n",
              "      <td>2020-11-15</td>\n",
              "      <td>Garden</td>\n",
              "      <td>919.000000</td>\n",
              "      <td>DE</td>\n",
              "      <td>15</td>\n",
              "      <td>0</td>\n",
              "      <td>0</td>\n",
              "      <td>3</td>\n",
              "      <td>1446</td>\n",
              "      <td>921</td>\n",
              "      <td>97.000000</td>\n",
              "      <td>116.000000</td>\n",
              "      <td>112.000000</td>\n",
              "      <td>3.000000</td>\n",
              "      <td>Hero Product 1</td>\n",
              "      <td>1446</td>\n",
              "      <td>webmaster@9pm-store.de</td>\n",
              "      <td></td>\n",
              "    </tr>\n",
              "    <tr>\n",
              "      <th>19</th>\n",
              "      <td>2020-11-15</td>\n",
              "      <td>Garden</td>\n",
              "      <td>6538.110187</td>\n",
              "      <td>DE</td>\n",
              "      <td>0</td>\n",
              "      <td>18</td>\n",
              "      <td>20</td>\n",
              "      <td>20</td>\n",
              "      <td>0</td>\n",
              "      <td>0</td>\n",
              "      <td>76.000000</td>\n",
              "      <td>3721.000000</td>\n",
              "      <td>2827.000000</td>\n",
              "      <td>893.000000</td>\n",
              "      <td>Hero Product 2</td>\n",
              "      <td>0</td>\n",
              "      <td>abc-markt@web.de</td>\n",
              "      <td>0570591155</td>\n",
              "    </tr>\n",
              "  </tbody>\n",
              "</table>\n",
              "</div>"
            ],
            "text/plain": [
              "   Date_added  ...    Telefone\n",
              "0  2020-11-15  ...            \n",
              "1  2020-11-15  ...      039932\n",
              "5  2020-11-15  ...            \n",
              "14 2020-11-15  ...            \n",
              "19 2020-11-15  ...  0570591155\n",
              "\n",
              "[5 rows x 18 columns]"
            ]
          },
          "metadata": {},
          "execution_count": 783
        }
      ]
    },
    {
      "cell_type": "markdown",
      "source": [
        "# Now I am finding the best sellers based on Number of products selling and Positive rating"
      ],
      "metadata": {
        "id": "4iXTv5lksXTA"
      }
    },
    {
      "cell_type": "code",
      "source": [
        "# finding the top 5 best sellers\n",
        "df['top']= round((df['sellerproductcount'] * df['Number_of_negative_Sellerratings'])/2,2)"
      ],
      "metadata": {
        "id": "RO2HLIi_sPWb"
      },
      "execution_count": 784,
      "outputs": []
    },
    {
      "cell_type": "code",
      "source": [
        "# sorting the values\n",
        "df.sort_values('top',ascending=False)"
      ],
      "metadata": {
        "colab": {
          "base_uri": "https://localhost:8080/",
          "height": 496
        },
        "id": "_6eee_md1jIi",
        "outputId": "8200081a-17f7-4438-b285-c5f451f76a7e"
      },
      "execution_count": 785,
      "outputs": [
        {
          "output_type": "execute_result",
          "data": {
            "text/html": [
              "<div>\n",
              "<style scoped>\n",
              "    .dataframe tbody tr th:only-of-type {\n",
              "        vertical-align: middle;\n",
              "    }\n",
              "\n",
              "    .dataframe tbody tr th {\n",
              "        vertical-align: top;\n",
              "    }\n",
              "\n",
              "    .dataframe thead th {\n",
              "        text-align: right;\n",
              "    }\n",
              "</style>\n",
              "<table border=\"1\" class=\"dataframe\">\n",
              "  <thead>\n",
              "    <tr style=\"text-align: right;\">\n",
              "      <th></th>\n",
              "      <th>Date_added</th>\n",
              "      <th>Category</th>\n",
              "      <th>sellerproductcount</th>\n",
              "      <th>businessaddress</th>\n",
              "      <th>Count_of_seller_brands</th>\n",
              "      <th>Max_%_of_negative_seller_ratings_last_30_days</th>\n",
              "      <th>Negative%_of _last_90_days</th>\n",
              "      <th>Last_12_months_negative%</th>\n",
              "      <th>Hero Product 1 #ratings</th>\n",
              "      <th>Hero Product 2 #ratings</th>\n",
              "      <th>sellerratings1</th>\n",
              "      <th>Total_ratings</th>\n",
              "      <th>Number_of_Positive_Sellerratings</th>\n",
              "      <th>Number_of_negative_Sellerratings</th>\n",
              "      <th>Which_product_having_best_rating</th>\n",
              "      <th>best_ratings_for_each_product</th>\n",
              "      <th>email</th>\n",
              "      <th>Telefone</th>\n",
              "      <th>top</th>\n",
              "    </tr>\n",
              "  </thead>\n",
              "  <tbody>\n",
              "    <tr>\n",
              "      <th>712</th>\n",
              "      <td>2020-11-15</td>\n",
              "      <td>Garden</td>\n",
              "      <td>200000.0</td>\n",
              "      <td>ES</td>\n",
              "      <td>15</td>\n",
              "      <td>16</td>\n",
              "      <td>22</td>\n",
              "      <td>22</td>\n",
              "      <td>13490</td>\n",
              "      <td>11284</td>\n",
              "      <td>76.0</td>\n",
              "      <td>2251.0</td>\n",
              "      <td>1710.0</td>\n",
              "      <td>540.0</td>\n",
              "      <td>Hero Product 1</td>\n",
              "      <td>13490</td>\n",
              "      <td></td>\n",
              "      <td></td>\n",
              "      <td>54000000.0</td>\n",
              "    </tr>\n",
              "    <tr>\n",
              "      <th>23</th>\n",
              "      <td>2020-11-15</td>\n",
              "      <td>Garden</td>\n",
              "      <td>100000.0</td>\n",
              "      <td>DE</td>\n",
              "      <td>15</td>\n",
              "      <td>15</td>\n",
              "      <td>12</td>\n",
              "      <td>10</td>\n",
              "      <td>30139</td>\n",
              "      <td>11182</td>\n",
              "      <td>88.0</td>\n",
              "      <td>3134.0</td>\n",
              "      <td>2757.0</td>\n",
              "      <td>376.0</td>\n",
              "      <td>Hero Product 1</td>\n",
              "      <td>30139</td>\n",
              "      <td>bib.beckum@blumenbecker.com</td>\n",
              "      <td></td>\n",
              "      <td>18800000.0</td>\n",
              "    </tr>\n",
              "    <tr>\n",
              "      <th>726</th>\n",
              "      <td>2020-11-15</td>\n",
              "      <td>Garden</td>\n",
              "      <td>40000.0</td>\n",
              "      <td>DE</td>\n",
              "      <td>16</td>\n",
              "      <td>8</td>\n",
              "      <td>9</td>\n",
              "      <td>9</td>\n",
              "      <td>40681</td>\n",
              "      <td>13311</td>\n",
              "      <td>89.0</td>\n",
              "      <td>7242.0</td>\n",
              "      <td>6445.0</td>\n",
              "      <td>796.0</td>\n",
              "      <td>Hero Product 1</td>\n",
              "      <td>40681</td>\n",
              "      <td>support@trendmile.com</td>\n",
              "      <td></td>\n",
              "      <td>15920000.0</td>\n",
              "    </tr>\n",
              "    <tr>\n",
              "      <th>1007</th>\n",
              "      <td>2020-11-15</td>\n",
              "      <td>Garden</td>\n",
              "      <td>60000.0</td>\n",
              "      <td>HK</td>\n",
              "      <td>13</td>\n",
              "      <td>2</td>\n",
              "      <td>2</td>\n",
              "      <td>4</td>\n",
              "      <td>560</td>\n",
              "      <td>481</td>\n",
              "      <td>94.0</td>\n",
              "      <td>7465.0</td>\n",
              "      <td>7017.0</td>\n",
              "      <td>447.0</td>\n",
              "      <td>Hero Product 1</td>\n",
              "      <td>560</td>\n",
              "      <td></td>\n",
              "      <td></td>\n",
              "      <td>13410000.0</td>\n",
              "    </tr>\n",
              "    <tr>\n",
              "      <th>36</th>\n",
              "      <td>2020-11-15</td>\n",
              "      <td>Garden</td>\n",
              "      <td>50000.0</td>\n",
              "      <td>DE</td>\n",
              "      <td>15</td>\n",
              "      <td>7</td>\n",
              "      <td>8</td>\n",
              "      <td>8</td>\n",
              "      <td>40683</td>\n",
              "      <td>18910</td>\n",
              "      <td>91.0</td>\n",
              "      <td>5150.0</td>\n",
              "      <td>4686.0</td>\n",
              "      <td>463.0</td>\n",
              "      <td>Hero Product 1</td>\n",
              "      <td>40683</td>\n",
              "      <td>info@itenga.de</td>\n",
              "      <td>06825</td>\n",
              "      <td>11575000.0</td>\n",
              "    </tr>\n",
              "    <tr>\n",
              "      <th>...</th>\n",
              "      <td>...</td>\n",
              "      <td>...</td>\n",
              "      <td>...</td>\n",
              "      <td>...</td>\n",
              "      <td>...</td>\n",
              "      <td>...</td>\n",
              "      <td>...</td>\n",
              "      <td>...</td>\n",
              "      <td>...</td>\n",
              "      <td>...</td>\n",
              "      <td>...</td>\n",
              "      <td>...</td>\n",
              "      <td>...</td>\n",
              "      <td>...</td>\n",
              "      <td>...</td>\n",
              "      <td>...</td>\n",
              "      <td>...</td>\n",
              "      <td>...</td>\n",
              "      <td>...</td>\n",
              "    </tr>\n",
              "    <tr>\n",
              "      <th>913</th>\n",
              "      <td>2020-11-15</td>\n",
              "      <td>Garden</td>\n",
              "      <td>226.0</td>\n",
              "      <td>DE</td>\n",
              "      <td>12</td>\n",
              "      <td>0</td>\n",
              "      <td>0</td>\n",
              "      <td>0</td>\n",
              "      <td>24</td>\n",
              "      <td>23</td>\n",
              "      <td>100.0</td>\n",
              "      <td>24.0</td>\n",
              "      <td>24.0</td>\n",
              "      <td>0.0</td>\n",
              "      <td>Hero Product 1</td>\n",
              "      <td>24</td>\n",
              "      <td>amazon@vonhermine.de</td>\n",
              "      <td></td>\n",
              "      <td>0.0</td>\n",
              "    </tr>\n",
              "    <tr>\n",
              "      <th>157</th>\n",
              "      <td>2020-11-15</td>\n",
              "      <td>Garden</td>\n",
              "      <td>2000.0</td>\n",
              "      <td>DE</td>\n",
              "      <td>15</td>\n",
              "      <td>0</td>\n",
              "      <td>0</td>\n",
              "      <td>0</td>\n",
              "      <td>2036</td>\n",
              "      <td>1525</td>\n",
              "      <td>100.0</td>\n",
              "      <td>576.0</td>\n",
              "      <td>576.0</td>\n",
              "      <td>0.0</td>\n",
              "      <td>Hero Product 1</td>\n",
              "      <td>2036</td>\n",
              "      <td>kontakt@kochmesser-shop.com</td>\n",
              "      <td>0511</td>\n",
              "      <td>0.0</td>\n",
              "    </tr>\n",
              "    <tr>\n",
              "      <th>213</th>\n",
              "      <td>2020-11-15</td>\n",
              "      <td>Garden</td>\n",
              "      <td>84.0</td>\n",
              "      <td>PL</td>\n",
              "      <td>13</td>\n",
              "      <td>0</td>\n",
              "      <td>0</td>\n",
              "      <td>0</td>\n",
              "      <td>1538</td>\n",
              "      <td>581</td>\n",
              "      <td>100.0</td>\n",
              "      <td>2.0</td>\n",
              "      <td>2.0</td>\n",
              "      <td>0.0</td>\n",
              "      <td>Hero Product 1</td>\n",
              "      <td>1538</td>\n",
              "      <td></td>\n",
              "      <td></td>\n",
              "      <td>0.0</td>\n",
              "    </tr>\n",
              "    <tr>\n",
              "      <th>208</th>\n",
              "      <td>2020-11-15</td>\n",
              "      <td>Garden</td>\n",
              "      <td>836.0</td>\n",
              "      <td>DE</td>\n",
              "      <td>14</td>\n",
              "      <td>0</td>\n",
              "      <td>0</td>\n",
              "      <td>0</td>\n",
              "      <td>11917</td>\n",
              "      <td>5800</td>\n",
              "      <td>100.0</td>\n",
              "      <td>35.0</td>\n",
              "      <td>35.0</td>\n",
              "      <td>0.0</td>\n",
              "      <td>Hero Product 1</td>\n",
              "      <td>11917</td>\n",
              "      <td>buchfink.brigitte.fink@googlemail.comUmsatzste...</td>\n",
              "      <td>04443</td>\n",
              "      <td>0.0</td>\n",
              "    </tr>\n",
              "    <tr>\n",
              "      <th>170</th>\n",
              "      <td>2020-11-15</td>\n",
              "      <td>Garden</td>\n",
              "      <td>479.0</td>\n",
              "      <td>DE</td>\n",
              "      <td>16</td>\n",
              "      <td>0</td>\n",
              "      <td>0</td>\n",
              "      <td>0</td>\n",
              "      <td>46</td>\n",
              "      <td>43</td>\n",
              "      <td>100.0</td>\n",
              "      <td>121.0</td>\n",
              "      <td>121.0</td>\n",
              "      <td>0.0</td>\n",
              "      <td>Hero Product 1</td>\n",
              "      <td>46</td>\n",
              "      <td>info@kontur-pur.de</td>\n",
              "      <td></td>\n",
              "      <td>0.0</td>\n",
              "    </tr>\n",
              "  </tbody>\n",
              "</table>\n",
              "<p>602 rows × 19 columns</p>\n",
              "</div>"
            ],
            "text/plain": [
              "     Date_added Category  ...  Telefone         top\n",
              "712  2020-11-15   Garden  ...            54000000.0\n",
              "23   2020-11-15   Garden  ...            18800000.0\n",
              "726  2020-11-15   Garden  ...            15920000.0\n",
              "1007 2020-11-15   Garden  ...            13410000.0\n",
              "36   2020-11-15   Garden  ...     06825  11575000.0\n",
              "...         ...      ...  ...       ...         ...\n",
              "913  2020-11-15   Garden  ...                   0.0\n",
              "157  2020-11-15   Garden  ...      0511         0.0\n",
              "213  2020-11-15   Garden  ...                   0.0\n",
              "208  2020-11-15   Garden  ...     04443         0.0\n",
              "170  2020-11-15   Garden  ...                   0.0\n",
              "\n",
              "[602 rows x 19 columns]"
            ]
          },
          "metadata": {},
          "execution_count": 785
        }
      ]
    },
    {
      "cell_type": "code",
      "source": [
        "# taking the top 5 best sellers only\n",
        "df['top'].nlargest(n=5)"
      ],
      "metadata": {
        "colab": {
          "base_uri": "https://localhost:8080/"
        },
        "id": "jqzlAwE5suXE",
        "outputId": "664f60da-ef04-440e-b9f3-19f24078ac09"
      },
      "execution_count": 786,
      "outputs": [
        {
          "output_type": "execute_result",
          "data": {
            "text/plain": [
              "712     54000000.0\n",
              "23      18800000.0\n",
              "726     15920000.0\n",
              "1007    13410000.0\n",
              "36      11575000.0\n",
              "Name: top, dtype: float64"
            ]
          },
          "metadata": {},
          "execution_count": 786
        }
      ]
    },
    {
      "cell_type": "markdown",
      "source": [
        "# The above sellers are the best sellers in the given data"
      ],
      "metadata": {
        "id": "qUC0HmSF6sfp"
      }
    },
    {
      "cell_type": "markdown",
      "source": [
        "#                             Thank you"
      ],
      "metadata": {
        "id": "n98DB5iP622t"
      }
    },
    {
      "cell_type": "code",
      "source": [
        ""
      ],
      "metadata": {
        "id": "Lg1bvI7560ba"
      },
      "execution_count": 786,
      "outputs": []
    }
  ]
}